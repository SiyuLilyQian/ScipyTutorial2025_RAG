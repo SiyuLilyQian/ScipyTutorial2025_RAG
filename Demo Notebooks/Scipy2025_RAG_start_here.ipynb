{
  "cells": [
    {
      "cell_type": "markdown",
      "metadata": {
        "id": "Y-6UN66XeYTL"
      },
      "source": [
        "# **Scipy Tutorial 2025 RAG**"
      ]
    },
    {
      "cell_type": "markdown",
      "metadata": {
        "id": "6oa_lNh-e3vN"
      },
      "source": [
        "# **PART 1: LLM Inference Setup**\n",
        "---\n",
        "Before we explore the power of Retrieval-Augmented Generation, let’s first set up our LLM inference endpoint. For this tutorial, we’ll be using an open-source LLM.\n"
      ]
    },
    {
      "cell_type": "markdown",
      "metadata": {
        "id": "e1040tOqkrj9"
      },
      "source": [
        "**Step 1: Launch a GPU instance**\n",
        "**Nebari**: If you’re using the Nebari platform, be sure to select a GPU instance.\n",
        "\n",
        "\n",
        "\n",
        "\n",
        "\n",
        "\n",
        "\n"
      ]
    },
    {
      "cell_type": "markdown",
      "metadata": {
        "id": "sHWJRzAPnwNo"
      },
      "source": [
        "Differences: CPU vs. GPU\n",
        "\n",
        "| Aspect            | CPU                                                         | GPU                                                      |\n",
        "|-------------------|-------------------------------------------------------------|----------------------------------------------------------|\n",
        "| **Function**      | Generalized component that handles main processing functions of a server | Specialized component that excels at parallel computing   |\n",
        "| **Processing**    | Designed for serial instruction processing                  | Designed for parallel instruction processing             |\n",
        "| **Design**        | Fewer, more powerful cores                                  | More cores than CPUs, but less powerful than CPU cores   |\n",
        "| **Best suited for** | General purpose computing applications                    | High-performance computing applications                  |\n",
        "\n"
      ]
    },
    {
      "cell_type": "markdown",
      "metadata": {
        "id": "utVilA0aM4sg"
      },
      "source": [
        "**Step 2: Instantiating a Text-Generation Pipeline with a Chat-Style Prompt**"
      ]
    },
    {
      "cell_type": "code",
      "execution_count": null,
      "metadata": {
        "id": "RIDd6M-OXWEs",
        "outputId": "265f3ad1-20b8-4a89-e81c-5772f2796f3d"
      },
      "outputs": [
        {
          "name": "stderr",
          "output_type": "stream",
          "text": [
            "Fetching 2 files: 100%|██████████| 2/2 [00:57<00:00, 28.61s/it]\n",
            "Loading checkpoint shards: 100%|██████████| 2/2 [00:11<00:00,  5.98s/it]\n"
          ]
        }
      ],
      "source": [
        "# Load model directly\n",
        "from transformers import AutoTokenizer, AutoModelForCausalLM, pipeline\n",
        "tokenizer = AutoTokenizer.from_pretrained(\"ibm-granite/granite-3.1-2b-instruct\")\n",
        "model = AutoModelForCausalLM.from_pretrained(\"ibm-granite/granite-3.1-2b-instruct\")"
      ]
    },
    {
      "cell_type": "markdown",
      "metadata": {
        "id": "Cxi7mIE7x4jr"
      },
      "source": [
        "The pipelines are a great and easy way to use models for inference,offering a simple API dedicated to several tasks, including Named Entity Recognition, Masked Language Modeling, Sentiment Analysis, Feature Extraction and Question Answering."
      ]
    },
    {
      "cell_type": "code",
      "execution_count": null,
      "metadata": {
        "id": "0BeQX-7inNaN",
        "outputId": "a4b0aaee-9701-45d2-fe02-3b675faf60ce"
      },
      "outputs": [
        {
          "name": "stderr",
          "output_type": "stream",
          "text": [
            "Device set to use cuda:0\n"
          ]
        }
      ],
      "source": [
        "pipe = pipeline(\n",
        "    \"text-generation\",\n",
        "    model=model,\n",
        "    tokenizer=tokenizer,\n",
        "    temperature=0.1,\n",
        "    return_full_text=False, # don't return the prompt itself\n",
        ")"
      ]
    },
    {
      "cell_type": "markdown",
      "metadata": {
        "id": "2ZGLakllGtAL"
      },
      "source": [
        "Integrate the LLM inference workflow into a minimal helper function for prompt templates, allowing users to provide their own context."
      ]
    },
    {
      "cell_type": "code",
      "execution_count": null,
      "metadata": {
        "id": "1T1VflQ2nnCt"
      },
      "outputs": [],
      "source": [
        "def prompt_template(context: str, question: str):\n",
        "    \"\"\"\n",
        "    context: supporting document or knowledge snippet\n",
        "    question: user’s query\n",
        "    \"\"\"\n",
        "    # build a prompt that clearly separates context from the question\n",
        "    prompt = f\"\"\"\n",
        "    You are an expert question-answering assistant in a RAG (Retrieval-Augmented Generation) system.\n",
        "    Use only the information in the CONTEXT to ANSWER the QUESTION.\n",
        "    CONTEXT:\n",
        "    {context.strip()}\n",
        "    QUESTION:\n",
        "    {question.strip()}\n",
        "    ANSWER:\n",
        "    \"\"\"\n",
        "    out = pipe(prompt, max_new_tokens=100, truncation=True, do_sample=True)[0]\n",
        "    return out[\"generated_text\"]"
      ]
    },
    {
      "cell_type": "markdown",
      "metadata": {
        "id": "i3Z6gkhmwnXv"
      },
      "source": [
        "**Without Context**\n",
        "\n",
        "Without a defined knowledge context, the LLM may hallucinate and provide inaccurate information."
      ]
    },
    {
      "cell_type": "code",
      "execution_count": null,
      "metadata": {
        "id": "LD07gl1awrH9",
        "outputId": "cb7d9a4e-8424-413a-9492-bc0147388e1a"
      },
      "outputs": [
        {
          "data": {
            "text/plain": [
              "'\\nThe painting \"Les Demoiselles d’Avignon\" by Pablo Picasso has canvas dimensions of 73 x 53 cm (28.7 x 21 inches). The subject of the painting is a group of prostitutes, often referred to as \"the whore of Babylon,\" depicted in a brothel setting. This work is considered a groundbreaking piece in the development of Cubism, as it'"
            ]
          },
          "execution_count": 7,
          "metadata": {},
          "output_type": "execute_result"
        }
      ],
      "source": [
        "user_question = \"What are the canvas dimensions of “Les Demoiselles d’Avignon,” and what subject does the painting depict?\"\n",
        "prompt_template(\"\",user_question)"
      ]
    },
    {
      "cell_type": "markdown",
      "metadata": {
        "id": "BRMIYVkvv92V"
      },
      "source": [
        "**With Context**\n",
        "\n",
        "With a clearly defined, fact-based context, the LLM can answer this question precisely."
      ]
    },
    {
      "cell_type": "code",
      "execution_count": null,
      "metadata": {
        "id": "JBfO1Ukdn44Z",
        "outputId": "92e06e47-b31d-41eb-878c-3072ee562494"
      },
      "outputs": [
        {
          "data": {
            "text/plain": [
              "' The canvas dimensions of “Les Demoiselles d’Avignon” are 243 cm (width) × 233 cm (height). The painting depicts five nude female figures.'"
            ]
          },
          "execution_count": 8,
          "metadata": {},
          "output_type": "execute_result"
        }
      ],
      "source": [
        "context_input = \"\"\"\n",
        "In July 1907, Pablo Picasso unveiled “Les Demoiselles d’Avignon” in his Paris studio.\n",
        "This groundbreaking canvas (243 cm × 233 cm) depicts five nude female figures with angular,\n",
        "fragmented forms and faces inspired by African and Iberian masks.\n",
        "By abandoning traditional single-point perspective, Picasso flattened the pictorial space\n",
        "and presented multiple viewpoints simultaneously.\n",
        "The painting’s radical departure from realistic representation laid the groundwork for the\n",
        "Cubist movement, which Picasso and Georges Braque would develop further in 1908–1914.\n",
        "\"\"\"\n",
        "user_question = \"What are the canvas dimensions of “Les Demoiselles d’Avignon,” and what subject does the painting depict?\"\n",
        "prompt_template(context_input,user_question)"
      ]
    },
    {
      "cell_type": "markdown",
      "metadata": {
        "id": "1hxZGS5CqkUp"
      },
      "source": [
        "# **PART 2: Load Data**\n",
        "\n",
        "\n",
        "---\n",
        "\n"
      ]
    },
    {
      "cell_type": "markdown",
      "metadata": {
        "id": "6oMJHt1L2ySx"
      },
      "source": [
        "In this tutorial, we’ll use 100 scientific papers as our knowledge base. These are real arXiv papers from computer science and AI research, forming a subset of the [SPIQA](https://huggingface.co/datasets/google/spiqa) dataset.\n",
        "Unzip the downloaded data by running `unzip scientific_papers.zip` in your terminal."
      ]
    },
    {
      "cell_type": "code",
      "execution_count": null,
      "metadata": {
        "id": "lhPrWVjgKTYy",
        "outputId": "20bcbc00-15ba-407b-f332-f66d3f602e0e"
      },
      "outputs": [
        {
          "name": "stdout",
          "output_type": "stream",
          "text": [
            "parent path: /home/siyulilyqian@gmail.com\n",
            "file path: /home/siyulilyqian@gmail.com/ScipyTutorial2025_RAG/Data/scientific_papers\n"
          ]
        }
      ],
      "source": [
        "from pathlib import Path\n",
        "# find parent path\n",
        "current_path = Path.cwd()\n",
        "root_path = current_path.parents[1]\n",
        "print(\"parent path:\", root_path)\n",
        "# specif data file path\n",
        "folder_path = root_path/\"ScipyTutorial2025_RAG/Data/scientific_papers\"\n",
        "print(\"file path:\",folder_path)"
      ]
    },
    {
      "cell_type": "code",
      "execution_count": null,
      "metadata": {
        "id": "aeWeQrpE39-h"
      },
      "outputs": [],
      "source": [
        "import glob\n",
        "import os\n",
        "txt_files = glob.glob(os.path.join(folder_path, '*.txt'))\n",
        "# Read them into a dict, keep track of file names\n",
        "documents_dict = {}\n",
        "for fp in txt_files:\n",
        "    with open(fp, 'r', encoding='utf-8') as f:\n",
        "        documents_dict[os.path.basename(fp)] = f.read()"
      ]
    },
    {
      "cell_type": "code",
      "execution_count": null,
      "metadata": {
        "id": "14qSzmnF0-a1",
        "outputId": "23c5b8c3-cc59-418b-896d-7a4dc3b62366"
      },
      "outputs": [
        {
          "name": "stdout",
          "output_type": "stream",
          "text": [
            "Number of documents loaded: 100\n"
          ]
        }
      ],
      "source": [
        "from langchain.schema import Document\n",
        "# Convert each entry in documents_dict into a Document object\n",
        "docs = [\n",
        "    Document(page_content=content,metadata={\"source\": filename})\n",
        "    for filename, content in documents_dict.items()\n",
        "]\n",
        "print(f\"Number of documents loaded: {len(docs)}\")"
      ]
    },
    {
      "cell_type": "markdown",
      "metadata": {
        "id": "_jyAoq3PwD54"
      },
      "source": [
        "# **PART 3: RAG**\n",
        "\n",
        "\n",
        "\n",
        "---\n",
        "\n"
      ]
    },
    {
      "cell_type": "markdown",
      "metadata": {
        "id": "p3onorJ442oz"
      },
      "source": [
        "# **3.1 Chunking**\n",
        "\n",
        "Chunking refers to the process of splitting a larger document into smaller, more manageable “chunks” of text before embedding and retrieval.\n",
        "\n",
        "\n"
      ]
    },
    {
      "cell_type": "code",
      "execution_count": null,
      "metadata": {
        "id": "rezzyGs442C1",
        "outputId": "d18d0148-2d0b-443a-ff9b-662187e8cc4c"
      },
      "outputs": [
        {
          "name": "stdout",
          "output_type": "stream",
          "text": [
            "2004 of chunks are created.\n"
          ]
        }
      ],
      "source": [
        "from langchain_text_splitters import CharacterTextSplitter\n",
        "text_splitter = CharacterTextSplitter(separator=\"\", chunk_size=2000,chunk_overlap=0)\n",
        "texts = text_splitter.split_documents(docs)\n",
        "print(f\"{len(texts)} of chunks are created.\")"
      ]
    },
    {
      "cell_type": "markdown",
      "metadata": {
        "id": "vRAJLnvqspyL"
      },
      "source": [
        "**Question 1:** What observations did you make about fixed-length chunking, and which alternative chunking method would you like to explore next?"
      ]
    },
    {
      "cell_type": "code",
      "execution_count": null,
      "metadata": {
        "id": "APJL2a7ktAzI"
      },
      "outputs": [],
      "source": [
        "# Code Here"
      ]
    },
    {
      "cell_type": "markdown",
      "metadata": {
        "id": "_65qkm-HtVWf"
      },
      "source": [
        "**Question 2:** Measure each chunking strategy's processing latency. Which method runs the fastest, and which one is the slowest? Why is that?"
      ]
    },
    {
      "cell_type": "code",
      "execution_count": null,
      "metadata": {
        "id": "f6s7Y4XLtqgf"
      },
      "outputs": [],
      "source": [
        "# Code Here"
      ]
    },
    {
      "cell_type": "markdown",
      "metadata": {
        "id": "HDvrfllI4eGz"
      },
      "source": [
        "# **3.2 Embedding**\n",
        "\n",
        "\n",
        "Embedding and indexing are the steps that turn text chunks into a searchable vector database. **Embedding** converts pieces of text into high-dimensional numeric vectors that capture their semantic meaning.\n",
        "**Indexing** stores those vectors in a specialized data structure—or “index”—that supports fast similarity search."
      ]
    },
    {
      "cell_type": "markdown",
      "metadata": {
        "id": "zQ8qZLSp6BmF"
      },
      "source": [
        "Feel free to explore the wide range of embedding models available on Hugging Face.\n"
      ]
    },
    {
      "cell_type": "code",
      "execution_count": null,
      "metadata": {
        "id": "mEoD8eBf1pBT"
      },
      "outputs": [],
      "source": [
        "from sentence_transformers import SentenceTransformer\n",
        "from langchain_huggingface import HuggingFaceEmbeddings\n",
        "\n",
        "model_name = \"sentence-transformers/all-mpnet-base-v2\"\n",
        "model_kwargs = {'device': 'cuda'}\n",
        "encode_kwargs = {'normalize_embeddings': False}\n",
        "hf = HuggingFaceEmbeddings(\n",
        "    model_name=model_name,\n",
        "    model_kwargs=model_kwargs,\n",
        "    encode_kwargs=encode_kwargs\n",
        ")"
      ]
    },
    {
      "cell_type": "code",
      "execution_count": null,
      "metadata": {
        "id": "xRpYj9Se3wln"
      },
      "outputs": [],
      "source": [
        "from langchain_community.vectorstores import FAISS\n",
        "vectorstore = FAISS.from_documents(texts, hf)"
      ]
    },
    {
      "cell_type": "markdown",
      "metadata": {
        "id": "zKlW4eli4thB"
      },
      "source": [
        "# **3.3 Retrieval**\n",
        "\n",
        "Retrieval refers to the process of finding and fetching the most relevant chunks (pieces of text) from your indexed knowledge base to serve as context for your LLM."
      ]
    },
    {
      "cell_type": "code",
      "execution_count": null,
      "metadata": {
        "id": "nScHuczy4jw1"
      },
      "outputs": [],
      "source": [
        "retrieved_chunks = vectorstore.similarity_search(\"What challenge do temporal tracking and forecasting tasks illustrate in machine learning?\",k=2)"
      ]
    },
    {
      "cell_type": "code",
      "execution_count": null,
      "metadata": {
        "id": "6_t8ImFovUIi"
      },
      "outputs": [],
      "source": [
        "# check source document\n",
        "retrieved_chunks[0].metadata"
      ]
    },
    {
      "cell_type": "markdown",
      "metadata": {
        "id": "uJNQ0nP4rFNg"
      },
      "source": [
        "**Question 1:** What code changes are needed to add both a similarity-score threshold and metadata-based filtering on top of your standard “top­k chunk” retriever in a RAG pipeline?"
      ]
    },
    {
      "cell_type": "code",
      "execution_count": null,
      "metadata": {
        "id": "RG8y5JT0rGFo"
      },
      "outputs": [],
      "source": [
        "### enter code here"
      ]
    },
    {
      "cell_type": "markdown",
      "metadata": {
        "id": "rcO5dPD8qPzF"
      },
      "source": [
        "\n",
        "\n",
        "**Question 2:** What steps are required to plug a sparse retriever into your RAG workflow, replacing the default dense retriever?"
      ]
    },
    {
      "cell_type": "code",
      "execution_count": null,
      "metadata": {
        "id": "-LcoVBA-qPPT"
      },
      "outputs": [],
      "source": [
        "from langchain_community.retrievers import BM25Retriever\n",
        "### enter code here"
      ]
    },
    {
      "cell_type": "markdown",
      "metadata": {
        "id": "yXAzR8P76gi7"
      },
      "source": [
        "**Question 3:** Is there a quick way to evaluate your retrieval results? Hint: Use Metadata"
      ]
    },
    {
      "cell_type": "code",
      "execution_count": null,
      "metadata": {
        "id": "fpUOyrUd6uKV"
      },
      "outputs": [],
      "source": [
        "## enter code here"
      ]
    },
    {
      "cell_type": "markdown",
      "metadata": {
        "id": "5l3HIFuJrXNS"
      },
      "source": [
        "# **3.4 Gradio App**\n",
        "\n",
        "\n",
        "A Gradio app is a Python-powered interface that lets users interactively demo and test models through customizable input and output components.\n",
        "\n",
        "With your RAG pipeline in place, you’re all set to start chatting with your LLM-powered assistant!\n",
        "\n",
        "\n",
        "\n",
        "\n",
        "\n",
        "\n",
        "\n"
      ]
    },
    {
      "cell_type": "code",
      "execution_count": null,
      "metadata": {
        "id": "BfPyZoma0owJ"
      },
      "outputs": [],
      "source": [
        "def retrieve(question):\n",
        "  ####swap your retriever here #####\n",
        "  chunks = vectorstore.similarity_search(question,k=2)\n",
        "  # put the retreived chunks into a context block\n",
        "  joined_chunks = [\"\".join(chunk.page_content) for chunk in chunks]\n",
        "  # reformat them into one Markdown block\n",
        "  context = \"\\n\\n---\\n\\n\".join(joined_chunks)\n",
        "  return context"
      ]
    },
    {
      "cell_type": "code",
      "execution_count": null,
      "metadata": {
        "id": "LMNuoacsuhI2"
      },
      "outputs": [],
      "source": [
        "import gradio as gr\n",
        "def rag_chat(question: str):\n",
        "    # 1) get context\n",
        "    context = retrieve(question)\n",
        "    # 2) generate answer\n",
        "    answer = prompt_template(context,question)\n",
        "    # return both to the UI\n",
        "    return context, answer\n",
        "# ── 3) Build and launch the app ──\n",
        "iface = gr.Interface(\n",
        "    fn=rag_chat,\n",
        "    inputs=gr.Textbox(lines=2, placeholder=\"Ask anything…\"),\n",
        "    outputs=[\n",
        "        gr.Markdown(label=\"Retrieved Context\"),\n",
        "        gr.Textbox(label=\"Answer\")\n",
        "    ],\n",
        "    title=\"Simple RAG Demo\",\n",
        "    description=\"Enter a question, see the retrieved context, and the LLM's answer.\"\n",
        ")\n",
        "\n",
        "if __name__ == \"__main__\":\n",
        "    iface.launch(share=True)"
      ]
    },
    {
      "cell_type": "markdown",
      "metadata": {
        "id": "zTo7KT-Qznzv"
      },
      "source": [
        "# **3.5 Advance Section**\n",
        "\n",
        "\n"
      ]
    },
    {
      "cell_type": "markdown",
      "metadata": {
        "id": "AR-p6wFXzxIY"
      },
      "source": [
        "## **3.5.1 Hybrid Retrieval**\n",
        "\n",
        "Hybrid retrieval combines traditional keyword-based search (e.g., BM25) with vector-based semantic search to surface results that are both lexically and conceptually relevant."
      ]
    },
    {
      "cell_type": "code",
      "execution_count": null,
      "metadata": {
        "id": "VookXs5qzzrk"
      },
      "outputs": [],
      "source": [
        "from langchain.retrievers import EnsembleRetriever\n",
        "## code here"
      ]
    },
    {
      "cell_type": "markdown",
      "metadata": {
        "id": "_MdS_W1Az91R"
      },
      "source": [
        "**Question:** Which combination method does this hybrid retriever use?"
      ]
    },
    {
      "cell_type": "markdown",
      "metadata": {
        "id": "e3pApnkB1AsJ"
      },
      "source": [
        "## **3.5.2 Cross-Encoder Reranker**\n",
        "\n",
        "A reranker is a secondary model that takes the top-N candidates from an initial retrieval stage and assigns them more precise relevance scores to produce a refined ranking.\n",
        "\n",
        "In this section, we’ve provided the code for a cross-encoder reranker. Feel free to explore it and try out different models.\n",
        "\n",
        "\n",
        "\n",
        "\n",
        "\n",
        "\n",
        "\n",
        "\n"
      ]
    },
    {
      "cell_type": "code",
      "execution_count": null,
      "metadata": {
        "id": "v4h84Opl1VMy"
      },
      "outputs": [],
      "source": [
        "import torch\n",
        "from transformers import AutoTokenizer, AutoModelForSequenceClassification\n",
        "# load reranker model\n",
        "tokenizer = AutoTokenizer.from_pretrained(\"BAAI/bge-reranker-v2-m3\")\n",
        "model = AutoModelForSequenceClassification.from_pretrained(\"BAAI/bge-reranker-v2-m3\")\n",
        "model = model.to(\"cuda:0\" if torch.cuda.is_available() else \"cpu\")\n",
        "model.eval()\n",
        "\n",
        "def cross_encoder_rerank(question: str, doc: str) -> float:\n",
        "    pairs = [[question, doc]]\n",
        "    with torch.no_grad():\n",
        "        inputs = tokenizer(\n",
        "            pairs,\n",
        "            padding=True,\n",
        "            truncation=True,\n",
        "            return_tensors=\"pt\",\n",
        "            max_length=512,\n",
        "        ).to(model.device)\n",
        "        scores = model(**inputs).logits.view(-1).float()\n",
        "    return scores.item()\n"
      ]
    },
    {
      "cell_type": "markdown",
      "metadata": {
        "id": "M578Y3vA2ByK"
      },
      "source": [
        "**Question**: Plug the reranker into your current RAG pipeline. Is the reranker’s result better than the initial retrieval result?"
      ]
    },
    {
      "cell_type": "code",
      "execution_count": null,
      "metadata": {
        "id": "fIhWSlX66bTN"
      },
      "outputs": [],
      "source": [
        "## code here"
      ]
    }
  ],
  "metadata": {
    "accelerator": "GPU",
    "colab": {
      "gpuType": "T4",
      "machine_shape": "hm",
      "provenance": [],
      "toc_visible": true
    },
    "kernelspec": {
      "display_name": "scipy-scipy-rag",
      "language": "python",
      "name": "conda-env-scipy-scipy-rag-py"
    },
    "language_info": {
      "codemirror_mode": {
        "name": "ipython",
        "version": 3
      },
      "file_extension": ".py",
      "mimetype": "text/x-python",
      "name": "python",
      "nbconvert_exporter": "python",
      "pygments_lexer": "ipython3",
      "version": "3.13.5"
    }
  },
  "nbformat": 4,
  "nbformat_minor": 0
}
